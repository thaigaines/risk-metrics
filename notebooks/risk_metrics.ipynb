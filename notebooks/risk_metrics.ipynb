{
 "cells": [
  {
   "cell_type": "markdown",
   "id": "ee18c24e-49c1-451c-8e4b-1bdbc480d9c8",
   "metadata": {},
   "source": [
    "# Risk Metrics"
   ]
  },
  {
   "cell_type": "code",
   "execution_count": 1,
   "id": "cbdbe099-7073-4a6c-8641-bb9b46cf4cc8",
   "metadata": {},
   "outputs": [],
   "source": [
    "import matplotlib.pyplot as plt\n",
    "import numpy as np\n",
    "import pandas as pd\n",
    "import seaborn as sns\n",
    "import yfinance as yf"
   ]
  },
  {
   "cell_type": "markdown",
   "id": "bdebdc59-551b-44d5-8d7c-84dad5008142",
   "metadata": {},
   "source": [
    "Using S&P 500 as demonstration"
   ]
  },
  {
   "cell_type": "code",
   "execution_count": 2,
   "id": "0c74cd35-c51d-4b7c-a3c8-712fbea74f79",
   "metadata": {},
   "outputs": [],
   "source": [
    "ticker = yf.Ticker(\"^GSPC\")\n",
    "data = ticker.history(period=\"1y\")"
   ]
  },
  {
   "cell_type": "markdown",
   "id": "74814c96-888c-44f2-80ac-c55dcf545ffe",
   "metadata": {},
   "source": [
    "## Daily Return\n",
    "Day-to-day gain/loss"
   ]
  },
  {
   "cell_type": "code",
   "execution_count": 3,
   "id": "9b659f41-d3cc-479f-b41f-0c60720e4285",
   "metadata": {},
   "outputs": [
    {
     "data": {
      "text/plain": [
       "Date\n",
       "2024-09-19 00:00:00-04:00    0.016977\n",
       "2024-09-20 00:00:00-04:00   -0.001941\n",
       "2024-09-23 00:00:00-04:00    0.002809\n",
       "2024-09-24 00:00:00-04:00    0.002511\n",
       "2024-09-25 00:00:00-04:00   -0.001861\n",
       "Name: Close, dtype: float64"
      ]
     },
     "execution_count": 3,
     "metadata": {},
     "output_type": "execute_result"
    }
   ],
   "source": [
    "returns = data['Close'].pct_change().dropna()\n",
    "returns.head()"
   ]
  },
  {
   "cell_type": "code",
   "execution_count": 4,
   "id": "e76c4abe-17e5-4dd7-91b9-9f2203ea5274",
   "metadata": {},
   "outputs": [
    {
     "data": {
      "image/png": "[encoded data removed]",
      "text/plain": [
       "<Figure size 640x480 with 1 Axes>"
      ]
     },
     "metadata": {},
     "output_type": "display_data"
    }
   ],
   "source": [
    "sns.kdeplot(returns, fill=True)\n",
    "plt.title(\"Distribution of Returns\")\n",
    "plt.xlabel(\"% Change in Returns\")\n",
    "plt.show()"
   ]
  },
  {
   "cell_type": "markdown",
   "id": "ad113481-be86-4c36-a9b8-9d589c385801",
   "metadata": {},
   "source": [
    "## Cumulative Return\n",
    "Overall growth"
   ]
  },
  {
   "cell_type": "code",
   "execution_count": 5,
   "id": "7f285391-1589-41f6-bf00-5e450faf1853",
   "metadata": {},
   "outputs": [
    {
     "data": {
      "text/plain": [
       "Date\n",
       "2024-09-19 00:00:00-04:00    0.016977\n",
       "2024-09-20 00:00:00-04:00    0.015003\n",
       "2024-09-23 00:00:00-04:00    0.017854\n",
       "2024-09-24 00:00:00-04:00    0.020410\n",
       "2024-09-25 00:00:00-04:00    0.018511\n",
       "Name: Close, dtype: float64"
      ]
     },
     "execution_count": 5,
     "metadata": {},
     "output_type": "execute_result"
    }
   ],
   "source": [
    "cumulative_return = (1 + returns).cumprod() - 1\n",
    "cumulative_return.head()"
   ]
  },
  {
   "cell_type": "markdown",
   "id": "aa3aa04d-e4e7-4b75-b2e9-0e92102f3c1f",
   "metadata": {},
   "source": [
    "## Volatility / Std Dev of Returns\n",
    "Uncertainty of the distribution (distance from mean)"
   ]
  },
  {
   "cell_type": "code",
   "execution_count": 6,
   "id": "10ef7397-5302-4e1c-80be-2d1d929af04e",
   "metadata": {},
   "outputs": [
    {
     "name": "stdout",
     "output_type": "stream",
     "text": [
      "Volatility: 0.012\n"
     ]
    }
   ],
   "source": [
    "volatility = returns.std()\n",
    "print(f\"Volatility: {volatility:.3f}\")"
   ]
  },
  {
   "cell_type": "markdown",
   "id": "c8c6677b-3394-4f48-92a0-ba561d668ee6",
   "metadata": {},
   "source": [
    "## Rolling Volatility / Rolling Std Dev\n",
    "Dynamic volatility - uncertainty over time"
   ]
  },
  {
   "cell_type": "code",
   "execution_count": 7,
   "id": "cbfbdeb9-f2e0-4c10-9963-03e5f13c23db",
   "metadata": {},
   "outputs": [
    {
     "data": {
      "text/plain": [
       "Date\n",
       "2025-09-11 00:00:00-04:00    0.006853\n",
       "2025-09-12 00:00:00-04:00    0.006799\n",
       "2025-09-15 00:00:00-04:00    0.005987\n",
       "2025-09-16 00:00:00-04:00    0.005504\n",
       "2025-09-17 00:00:00-04:00    0.005396\n",
       "Name: Close, dtype: float64"
      ]
     },
     "execution_count": 7,
     "metadata": {},
     "output_type": "execute_result"
    }
   ],
   "source": [
    "# Using 30 day window\n",
    "volatility_30d = returns.rolling(window=30).std()\n",
    "volatility_30d.tail()"
   ]
  },
  {
   "cell_type": "markdown",
   "id": "ece3065f-9cb8-4681-b8a4-f16f1c1e700b",
   "metadata": {},
   "source": [
    "## Sharpe Ratio\n",
    "Return per unit of volatility"
   ]
  },
  {
   "cell_type": "code",
   "execution_count": 8,
   "id": "4402c0f4-0a12-4ee0-8687-ff87037e11af",
   "metadata": {},
   "outputs": [
    {
     "name": "stdout",
     "output_type": "stream",
     "text": [
      "Mean Return: 0.001\n",
      "Volatility of Return: 0.012\n",
      "Sharpe Ratio: 0.060\n"
     ]
    }
   ],
   "source": [
    "mean_return = returns.mean()\n",
    "std_return = returns.std()\n",
    "sharpe_ratio = mean_return / std_return\n",
    "print(f\"Mean Return: {mean_return:.3f}\\nVolatility of Return: {std_return:.3f}\\nSharpe Ratio: {sharpe_ratio:.3f}\") # Higher sharpe = more reward for risk"
   ]
  },
  {
   "cell_type": "markdown",
   "id": "a33ee6ca-4686-4dea-8857-11ec3b1ceca0",
   "metadata": {},
   "source": [
    "## Parametric Value-at-Risk\n",
    "Worst expected daily loss at a given confidence interval (normal distribution assumption)"
   ]
  },
  {
   "cell_type": "code",
   "execution_count": 9,
   "id": "cf0ef0ce-bf28-4103-92f5-9d0839233a58",
   "metadata": {},
   "outputs": [
    {
     "name": "stdout",
     "output_type": "stream",
     "text": [
      "95% Confidence Parametric VaR: 0.02022170262400261\n",
      "We don't expect to lose more than 2.02% on 95% of days in the period.\n"
     ]
    }
   ],
   "source": [
    "# Worst-case scenario means left one-tailed test -> alpha at 5th percentile\n",
    "z_95 = -1.645\n",
    "\n",
    "p_var = mean_return - (z_95 * std_return)\n",
    "print(f\"95% Confidence Parametric VaR: {p_var}\")\n",
    "print(f\"We don't expect to lose more than {(p_var * 100):.2f}% on 95% of days in the period.\")"
   ]
  },
  {
   "cell_type": "code",
   "execution_count": 17,
   "id": "d941c674-fe2c-4448-8c41-3fa9a2fb4cd4",
   "metadata": {},
   "outputs": [
    {
     "data": {
      "text/plain": [
       "<Axes: xlabel='Close', ylabel='Density'>"
      ]
     },
     "execution_count": 17,
     "metadata": {},
     "output_type": "execute_result"
    },
    {
     "data": {
      "image/png": "[encoded data removed]",
      "text/plain": [
       "<Figure size 640x480 with 1 Axes>"
      ]
     },
     "metadata": {},
     "output_type": "display_data"
    }
   ],
   "source": [
    "sns.kdeplot(returns, fill=True)\n",
    "sns.kdeplot(returns, clip=(returns.min(), -p_var), fill=True)"
   ]
  },
  {
   "cell_type": "markdown",
   "id": "63e75eb7-dc7a-4c83-a076-cb24d99d4b86",
   "metadata": {},
   "source": [
    "## Non-Parametric VaR\n",
    "Worst expected daily loss at a given confidence interval (any distribution)"
   ]
  },
  {
   "cell_type": "code",
   "execution_count": 11,
   "id": "12a2f953-999c-412f-bf71-220856b45e4f",
   "metadata": {},
   "outputs": [
    {
     "name": "stdout",
     "output_type": "stream",
     "text": [
      "95% Confidence Non-Parametric VaR: -0.01607793165266793\n",
      "We don't expect to lose more than 1.61% on 95% of days in the period.\n"
     ]
    }
   ],
   "source": [
    "np_var_95 = returns.quantile(0.05) # 5% are below the value returned\n",
    "print(f\"95% Confidence Non-Parametric VaR: {np_var_95}\")\n",
    "print(f\"We don't expect to lose more than {(np_var_95 * -100):.2f}% on 95% of days in the period.\")"
   ]
  },
  {
   "cell_type": "markdown",
   "id": "6c6054d9-48bb-4799-8d09-1b3a1b081117",
   "metadata": {},
   "source": [
    "## Max Drawdown\n",
    "Worst crash from a peak"
   ]
  },
  {
   "cell_type": "code",
   "execution_count": 12,
   "id": "fd66849d-b81e-4d0e-a1a1-851671252003",
   "metadata": {},
   "outputs": [
    {
     "name": "stdout",
     "output_type": "stream",
     "text": [
      "Max Drawdown: -0.1890220618428391\n",
      "The worst crash this period resulted in a loss of 18.90%\n"
     ]
    }
   ],
   "source": [
    "cumulative = (1 + returns).cumprod()\n",
    "rolling_max = cumulative.cummax()\n",
    "drawdown = (cumulative - rolling_max) / rolling_max\n",
    "max_drawdown = drawdown.min()\n",
    "print(f\"Max Drawdown: {max_drawdown}\")\n",
    "print(f\"The worst crash this period resulted in a loss of {(max_drawdown * -100):.2f}%\")"
   ]
  },
  {
   "cell_type": "code",
   "execution_count": null,
   "id": "f18168e1-ae99-4157-8525-bfa3138fefd5",
   "metadata": {},
   "outputs": [],
   "source": []
  }
 ],
 "metadata": {
  "kernelspec": {
   "display_name": "Python (market_analysis)",
   "language": "python",
   "name": "market_analysis"
  },
  "language_info": {
   "codemirror_mode": {
    "name": "ipython",
    "version": 3
   },
   "file_extension": ".py",
   "mimetype": "text/x-python",
   "name": "python",
   "nbconvert_exporter": "python",
   "pygments_lexer": "ipython3",
   "version": "3.13.7"
  }
 },
 "nbformat": 4,
 "nbformat_minor": 5
}
